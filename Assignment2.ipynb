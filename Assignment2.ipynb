{
 "cells": [
  {
   "cell_type": "code",
   "execution_count": 1,
   "id": "1e882d28",
   "metadata": {},
   "outputs": [
    {
     "data": {
      "text/plain": [
       "6"
      ]
     },
     "execution_count": 1,
     "metadata": {},
     "output_type": "execute_result"
    }
   ],
   "source": [
    "#QUESTION:1\n",
    "a = 0\n",
    "\n",
    "def b():\n",
    "    global a\n",
    "    a = c(a)\n",
    "\n",
    "def c(a):\n",
    "    return a + 2\n",
    "b()\n",
    "b()\n",
    "b()\n",
    "a"
   ]
  },
  {
   "cell_type": "code",
   "execution_count": 13,
   "id": "e32c408d",
   "metadata": {},
   "outputs": [
    {
     "name": "stdout",
     "output_type": "stream",
     "text": [
      "11\n",
      "File idterm.py not found.\n"
     ]
    }
   ],
   "source": [
    "#QUESTION:2\n",
    "def fileLength(filename):\n",
    "    try:\n",
    "        infile = open(filename)\n",
    "        contents = infile.read()\n",
    "        infile.close()\n",
    "        print(len(contents))\n",
    "    except FileNotFoundError:\n",
    "        print(f\"File {filename} not found.\")\n",
    "fileLength('midterm.py')  \n",
    "fileLength('idterm.py')"
   ]
  },
  {
   "cell_type": "code",
   "execution_count": 19,
   "id": "63f54e9e",
   "metadata": {},
   "outputs": [
    {
     "name": "stdout",
     "output_type": "stream",
     "text": [
      "['doll', 'firetruck', 'kitten']\n",
      "I am a Kangaroo located at coordinates (0,0)\n",
      "['doll', 'firetruck', 'kitten']\n",
      "I am a Kangaroo located at coordinates (3,0)\n"
     ]
    }
   ],
   "source": [
    "#QUESTION:3\n",
    "class Marsupial:\n",
    "    def __init__(self):\n",
    "        self.pouch = []  # Initialize pouch as an empty list\n",
    "\n",
    "    def put_in_pouch(self, item):\n",
    "        self.pouch.append(item)\n",
    "\n",
    "    def pouch_contents(self):\n",
    "        return self.pouch\n",
    "\n",
    "\n",
    "\n",
    "class Kangaroo(Marsupial):\n",
    "    def __init__(self, x, y):\n",
    "        super().__init__()  # Call _init__ method of the parent class\n",
    "        self.x = x\n",
    "        self.y = y\n",
    "\n",
    "    def jump(self, dx, dy):\n",
    "        self.x += dx\n",
    "        self.y += dy\n",
    "\n",
    "    def __str__(self):\n",
    "        return f\"I am a Kangaroo located at coordinates ({self.x},{self.y})\"\n",
    "\n",
    "    \n",
    "    \n",
    "    \n",
    "m = Marsupial()\n",
    "m.put_in_pouch('doll')\n",
    "m.put_in_pouch('firetruck')\n",
    "m.put_in_pouch('kitten')\n",
    "print(m.pouch_contents())\n",
    "\n",
    "k = Kangaroo(0, 0)\n",
    "print(k)\n",
    "k.put_in_pouch('doll')\n",
    "k.put_in_pouch('firetruck')\n",
    "k.put_in_pouch('kitten')\n",
    "print(k.pouch_contents())\n",
    "k.jump(1, 0)\n",
    "k.jump(1, 0)\n",
    "k.jump(1, 0)\n",
    "print(k)\n",
    "\n",
    "\n"
   ]
  },
  {
   "cell_type": "code",
   "execution_count": 4,
   "id": "403ed4ea",
   "metadata": {},
   "outputs": [
    {
     "name": "stdout",
     "output_type": "stream",
     "text": [
      "10\n",
      "5\n",
      "16\n",
      "8\n",
      "4\n",
      "2\n",
      "1\n",
      "1\n"
     ]
    }
   ],
   "source": [
    "#QUESTION:4\n",
    "def collatz(x):\n",
    "    print(x)\n",
    "    if x == 1:\n",
    "        return\n",
    "    elif x % 2 == 0:\n",
    "        collatz(x // 2)\n",
    "    else:\n",
    "        collatz(3 * x + 1)\n",
    "        collatz(1)\n",
    "collatz(10)"
   ]
  },
  {
   "cell_type": "code",
   "execution_count": 5,
   "id": "42f28279",
   "metadata": {},
   "outputs": [
    {
     "name": "stdout",
     "output_type": "stream",
     "text": [
      "\n",
      "1\n",
      "110\n",
      "1000010"
     ]
    }
   ],
   "source": [
    "#QUESTION:5\n",
    "def binary(n):\n",
    "    if n < 2:\n",
    "        print(n, end='')\n",
    "    else:\n",
    "        binary(n // 2)\n",
    "        print(n % 2, end='')\n",
    "        binary(0)\n",
    "print() \n",
    "binary(1)\n",
    "print()\n",
    "binary(3)\n",
    "print()\n",
    "binary(9)"
   ]
  },
  {
   "cell_type": "code",
   "execution_count": 21,
   "id": "dc5b7a8f",
   "metadata": {},
   "outputs": [
    {
     "name": "stdout",
     "output_type": "stream",
     "text": [
      "W3C Mission\n",
      " Principles\n"
     ]
    }
   ],
   "source": [
    "#QUESTION:6\n",
    "from html.parser import HTMLParser\n",
    "\n",
    "class HeadingParser(HTMLParser):\n",
    "    def __init__(self):\n",
    "        super().__init__()\n",
    "        self.headings = []\n",
    "        self.current_heading = \"\"\n",
    "        self.invalid_count = 0\n",
    "\n",
    "    def handle_starttag(self, tag, attrs):\n",
    "        if tag.lower().startswith('h'):\n",
    "            self.current_heading = tag\n",
    "\n",
    "    def handle_endtag(self, tag):\n",
    "        if tag.lower().startswith('h'):\n",
    "            self.current_heading = \"\"\n",
    "\n",
    "    def handle_data(self, data):\n",
    "        if self.current_heading:\n",
    "            self.headings.append((self.current_heading, data.strip()))\n",
    "        else:\n",
    "            self.invalid_count += 1\n",
    "\n",
    "    def print_headings(self):\n",
    "        count = 0\n",
    "        file_path = 'w3c.html'  # Define file_path here\n",
    "        with open(file_path, 'r') as f:\n",
    "            content = f.read()\n",
    "            hp = HeadingParser()\n",
    "            hp.feed(content)\n",
    "            for heading in hp.headings:\n",
    "                if count >= 9:\n",
    "                    indent = int(heading[0][1:]) - 1\n",
    "                    print(\" \" * indent + heading[1])\n",
    "                else:\n",
    "                    count += 1\n",
    "\n",
    "# Create an instance of HeadingParser and parse the HTML file\n",
    "hp_instance = HeadingParser()\n",
    "hp_instance.print_headings()\n"
   ]
  },
  {
   "cell_type": "code",
   "execution_count": 25,
   "id": "e95f38a1",
   "metadata": {},
   "outputs": [
    {
     "name": "stdout",
     "output_type": "stream",
     "text": [
      "http://reed.cs.depaul.edu/lperkovic/csc242/test1.html\n"
     ]
    }
   ],
   "source": [
    "#QUESTION:7\n",
    "import requests\n",
    "from bs4 import BeautifulSoup\n",
    "\n",
    "def webdir(url, depth, indent):\n",
    "    if depth == 0:\n",
    "        return\n",
    "    \n",
    "    try:\n",
    "        response = requests.get(url)\n",
    "        soup = BeautifulSoup(response.text, 'html.parser')\n",
    "        \n",
    "        print(' ' * indent + url)\n",
    "        \n",
    "        links = soup.find_all('a')\n",
    "        for link in links:\n",
    "            href = link.get('href')\n",
    "            if href.startswith('http'):\n",
    "                webdir(href, depth - 1, indent + 1)  # Corrected function name and indentation\n",
    "    except requests.RequestException as e:\n",
    "        print(f\"Error accessing URL: {e}\")\n",
    "\n",
    "# Corrected function name in the function call\n",
    "webdir('http://reed.cs.depaul.edu/lperkovic/csc242/test1.html', 2, 0)\n"
   ]
  },
  {
   "cell_type": "code",
   "execution_count": 8,
   "id": "56ce90df",
   "metadata": {},
   "outputs": [
    {
     "name": "stdout",
     "output_type": "stream",
     "text": [
      "['THE', 'QUICK', 'BROWN', 'FOX', 'JUMPS', 'OVER', 'THE', 'LAZY', 'DOG']\n",
      "['the', 'quick', 'brown', 'fox', 'jumps', 'over', 'the', 'lazy', 'dog']\n",
      "[3, 5, 5, 3, 5, 4, 3, 4, 3]\n",
      "[['THE', 'the', 3], ['QUICK', 'quick', 5], ['BROWN', 'brown', 5], ['FOX', 'fox', 3], ['JUMPS', 'jumps', 5], ['OVER', 'over', 4], ['THE', 'the', 3], ['LAZY', 'lazy', 4], ['DOG', 'dog', 3]]\n",
      "['quick', 'brown', 'jumps', 'over', 'lazy']\n"
     ]
    }
   ],
   "source": [
    "#QUESTION:9\n",
    "words = ['The', 'quick', 'brown', 'fox', 'jumps', 'over', 'the', 'lazy', 'dog']\n",
    "\n",
    "# a)\n",
    "a = [word.upper() for word in words]\n",
    "print(a)\n",
    "\n",
    "# b)\n",
    "b = [word.lower() for word in words]\n",
    "print(b)\n",
    "\n",
    "# c)\n",
    "c = [len(word) for word in words]\n",
    "print(c)\n",
    "\n",
    "# d)\n",
    "d = [[word.upper(), word.lower(), len(word)] for word in words]\n",
    "print(d)\n",
    "\n",
    "# e)\n",
    "e = [word for word in words if len(word) >= 4]\n",
    "print(e)"
   ]
  },
  {
   "cell_type": "code",
   "execution_count": null,
   "id": "0bed63fe",
   "metadata": {},
   "outputs": [],
   "source": [
    "#QUESTION:8\n",
    "# There is no specific name for this table so let consider the name of table as weather_data or convert this table to excel and name it .here i consider this tables name as weather_data\n",
    "#a)\n",
    "SELECT Temperature FROM weather_data;\n",
    "#b)\n",
    "SELECT DISTINCT City FROM weather_data;\n",
    "#c)\n",
    "SELECT * FROM weather_data WHERE Country = 'India';\n",
    "#d)\n",
    "SELECT * FROM weather_data WHERE Season = 'Fall';\n",
    "#e)\n",
    "SELECT City, Country, Season\n",
    "FROM weather_data\n",
    "GROUP BY City, Country, Season\n",
    "HAVING AVG(Rainfall) BETWEEN 200 AND 400;\n",
    "#f)\n",
    "SELECT City, Country\n",
    "FROM weather_data\n",
    "WHERE Season = 'Fall'\n",
    "GROUP BY City, Country\n",
    "HAVING AVG(Temperature) > 20\n",
    "ORDER BY AVG(Temperature) ASC;\n",
    "#g)\n",
    "SELECT SUM(Rainfall) AS Total_Annual_Rainfall\n",
    "FROM weather_data\n",
    "WHERE City = 'Cairo';\n",
    "#h)\n",
    "SELECT Season, SUM(Rainfall) AS Total_Rainfall\n",
    "FROM weather_data\n",
    "GROUP BY Season;\n"
   ]
  }
 ],
 "metadata": {
  "kernelspec": {
   "display_name": "Python 3 (ipykernel)",
   "language": "python",
   "name": "python3"
  },
  "language_info": {
   "codemirror_mode": {
    "name": "ipython",
    "version": 3
   },
   "file_extension": ".py",
   "mimetype": "text/x-python",
   "name": "python",
   "nbconvert_exporter": "python",
   "pygments_lexer": "ipython3",
   "version": "3.11.5"
  }
 },
 "nbformat": 4,
 "nbformat_minor": 5
}
